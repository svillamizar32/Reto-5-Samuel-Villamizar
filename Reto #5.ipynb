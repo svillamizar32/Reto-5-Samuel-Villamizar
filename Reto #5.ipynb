{
 "cells": [
  {
   "attachments": {},
   "cell_type": "markdown",
   "metadata": {},
   "source": [
    "1. Dado un número entero, determinar si ese número corresponde al código ASCII de una vocal minúscula."
   ]
  },
  {
   "cell_type": "code",
   "execution_count": null,
   "metadata": {},
   "outputs": [],
   "source": [
    "x= int((input (\"Ingrese un numero\")))\n",
    "print (x) \n",
    "if x == 97 or x == 101 or x == 105 or x == 111 or x == 117:\n",
    "    print ( chr(x),\"es una vocal minuscula\")\n",
    "else :\n",
    "    print ( chr(x), \"no es una vocal\")\n"
   ]
  },
  {
   "attachments": {},
   "cell_type": "markdown",
   "metadata": {},
   "source": [
    "2. Dada una cadena de longitud 1, determine si el código ASCII de primera letra de la cadena es par o no."
   ]
  },
  {
   "cell_type": "code",
   "execution_count": null,
   "metadata": {},
   "outputs": [],
   "source": [
    "x = ord(input (\"introduzca un caracter\"))\n",
    "if x % 2 == 0 :\n",
    "    print (\"el código ASCII del caracter es par\")\n",
    "else :\n",
    "    print (\"el código ASCII del caracter es impar\")"
   ]
  },
  {
   "attachments": {},
   "cell_type": "markdown",
   "metadata": {},
   "source": [
    "3. Dado un carácter, construya un programa en Python para determinar si el carácter es un dígito o no."
   ]
  },
  {
   "cell_type": "code",
   "execution_count": null,
   "metadata": {},
   "outputs": [],
   "source": [
    "x = input (\"introduzca un caracter\")\n",
    "if 65 < ord(x) < 122 :\n",
    "    print (x,\"no es un digito\")\n",
    "else :\n",
    "    print (x,\"es un digito\")"
   ]
  },
  {
   "attachments": {},
   "cell_type": "markdown",
   "metadata": {},
   "source": [
    "4. Dado un número real x, construya un programa que permita determinar si el número es positivo, negativo o cero. Para cada caso de debe imprimir el texto que se especifica a continuación:"
   ]
  },
  {
   "cell_type": "code",
   "execution_count": null,
   "metadata": {},
   "outputs": [],
   "source": [
    "x = int(input (\"introduzca un numero\"))\n",
    "if x == 0 :\n",
    "    print (x,\"El número es el neutro para la suma\")\n",
    "elif x < 0 :\n",
    "    print (x,\"El número es negativo\")\n",
    "else : \n",
    "    print (x,\"El número es positivo\")"
   ]
  },
  {
   "attachments": {},
   "cell_type": "markdown",
   "metadata": {},
   "source": [
    "5. Dado el centro y el radio de un círculo, determinar si un punto de R2 pertenece o no al interior del círculo."
   ]
  },
  {
   "cell_type": "code",
   "execution_count": null,
   "metadata": {},
   "outputs": [],
   "source": []
  },
  {
   "attachments": {},
   "cell_type": "markdown",
   "metadata": {},
   "source": [
    "6. Dadas tres longitudes positivas, determinar si con esas longitudes se puede construir un triángulo."
   ]
  },
  {
   "cell_type": "code",
   "execution_count": null,
   "metadata": {},
   "outputs": [],
   "source": [
    "a = float (input(\"Longitud 1\"))\n",
    "b = float (input(\"Longitud 2\"))\n",
    "c = float (input(\"Longitud 3\"))\n",
    "if (a + b) > c and (a + c)> b and (c + b) > a:\n",
    "    print(\"es posible hacen un triangulo\")\n",
    "else:\n",
    "    print(\"no es posible hacen un triangulo\")"
   ]
  }
 ],
 "metadata": {
  "kernelspec": {
   "display_name": "Python 3",
   "language": "python",
   "name": "python3"
  },
  "language_info": {
   "codemirror_mode": {
    "name": "ipython",
    "version": 3
   },
   "file_extension": ".py",
   "mimetype": "text/x-python",
   "name": "python",
   "nbconvert_exporter": "python",
   "pygments_lexer": "ipython3",
   "version": "3.10.10"
  },
  "orig_nbformat": 4
 },
 "nbformat": 4,
 "nbformat_minor": 2
}
